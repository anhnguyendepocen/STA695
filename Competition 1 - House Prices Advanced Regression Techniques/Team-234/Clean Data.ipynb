{
 "cells": [
  {
   "cell_type": "code",
   "execution_count": 1,
   "metadata": {},
   "outputs": [
    {
     "data": {
      "text/html": [
       "<style>.container { width:100% !important; }</style>"
      ],
      "text/plain": [
       "<IPython.core.display.HTML object>"
      ]
     },
     "metadata": {},
     "output_type": "display_data"
    }
   ],
   "source": [
    "#####################################\n",
    "#####################################\n",
    "######## import package #############\n",
    "#####################################\n",
    "#####################################\n",
    "import numpy as np\n",
    "from scipy.stats import skew, skewtest\n",
    "import pandas as pd\n",
    "pd.options.display.max_columns = 999\n",
    "pd.options.display.max_rows = 999\n",
    "import matplotlib.pyplot as plt\n",
    "%matplotlib inline\n",
    "from IPython.core.display import display, HTML\n",
    "display(HTML(\"<style>.container { width:100% !important; }</style>\"))"
   ]
  },
  {
   "cell_type": "code",
   "execution_count": 2,
   "metadata": {},
   "outputs": [
    {
     "name": "stdout",
     "output_type": "stream",
     "text": [
      "Train shape is: (1460, 81)\n",
      "Test shape is: (1459, 80)\n"
     ]
    }
   ],
   "source": [
    "train = pd.read_csv(\"train.csv\")\n",
    "test = pd.read_csv(\"test.csv\")\n",
    "\n",
    "print(\"Train shape is:\", train.shape)\n",
    "print(\"Test shape is:\", test.shape)\n"
   ]
  },
  {
   "cell_type": "code",
   "execution_count": 3,
   "metadata": {
    "collapsed": true
   },
   "outputs": [],
   "source": [
    "#delete outliers\n",
    "#1stFlrSF\n",
    "train = train.drop(train[(train['1stFlrSF']>4000)].index)\n",
    "#BedroomAbvGr\n",
    "train = train.drop(train[(train['BedroomAbvGr']==8)].index)\n",
    "#BsmtFinSF1\n",
    "train = train.drop(train[(train['BsmtFinSF1']>5000)].index)\n",
    "#GrLivArea\n",
    "train = train.drop(train[(train['GrLivArea']>4000) & (train['SalePrice']<300000)].index)\n",
    "#LotArea\n",
    "train = train.drop(train[(train['LotArea']>100000)].index)\n",
    "#LotFrontage\n",
    "train = train.drop(train[(train['LotFrontage']>300)].index)\n",
    "#OpenPorchSF\n",
    "train = train.drop(train[(train['OpenPorchSF']>500)&(train['SalePrice']<100000)].index)\n",
    "#TotalBsmtSF\n",
    "train = train.drop(train[(train['TotalBsmtSF']>6000)].index)"
   ]
  },
  {
   "cell_type": "code",
   "execution_count": 4,
   "metadata": {},
   "outputs": [
    {
     "data": {
      "text/plain": [
       "(1451, 81)"
      ]
     },
     "execution_count": 4,
     "metadata": {},
     "output_type": "execute_result"
    }
   ],
   "source": [
    "train.shape"
   ]
  },
  {
   "cell_type": "code",
   "execution_count": 5,
   "metadata": {},
   "outputs": [
    {
     "name": "stdout",
     "output_type": "stream",
     "text": [
      "Total shape is: (2910, 81)\n"
     ]
    }
   ],
   "source": [
    "total = pd.concat((train, test)).reset_index(drop=True)\n",
    "print(\"Total shape is:\", total.shape)"
   ]
  },
  {
   "cell_type": "code",
   "execution_count": 17,
   "metadata": {},
   "outputs": [
    {
     "name": "stdout",
     "output_type": "stream",
     "text": [
      "(2910, 23)\n"
     ]
    },
    {
     "data": {
      "text/plain": [
       "BldgType         0\n",
       "CentralAir       0\n",
       "Condition1       0\n",
       "Condition2       0\n",
       "Electrical       0\n",
       "Exterior1st      0\n",
       "Exterior2nd      0\n",
       "Foundation       0\n",
       "GarageType       0\n",
       "Heating          0\n",
       "HouseStyle       0\n",
       "LandContour      0\n",
       "LotConfig        0\n",
       "MSSubClass       0\n",
       "MSZoning         0\n",
       "MasVnrType       0\n",
       "MiscFeature      0\n",
       "MoSold           0\n",
       "Neighborhood     0\n",
       "RoofMatl         0\n",
       "RoofStyle        0\n",
       "SaleCondition    0\n",
       "SaleType         0\n",
       "dtype: int64"
      ]
     },
     "execution_count": 17,
     "metadata": {},
     "output_type": "execute_result"
    }
   ],
   "source": [
    "char_X = total.select_dtypes(include=[\"object\"])\n",
    "print(char_X.shape)\n",
    "np.sum(char_X.isnull())"
   ]
  },
  {
   "cell_type": "code",
   "execution_count": 7,
   "metadata": {
    "collapsed": true
   },
   "outputs": [],
   "source": [
    "#######################################\n",
    "######### Missing Values ##################\n",
    "#######################################\n",
    "### Categorical Data\n",
    "total[\"PoolQC\"] = total[\"PoolQC\"].fillna(\"None\")\n",
    "total[\"MiscFeature\"] = total[\"MiscFeature\"].fillna(\"None\")\n",
    "total[\"Alley\"] = total[\"Alley\"].fillna(\"None\")\n",
    "total[\"Fence\"] = total[\"Fence\"].fillna(\"None\")\n",
    "total[\"FireplaceQu\"] = total[\"FireplaceQu\"].fillna(\"None\")\n",
    "#Group by neighborhood and fill in missing value by the median LotFrontage of all the neighborhood\n",
    "total[\"LotFrontage\"] = total.groupby(\"Neighborhood\")[\"LotFrontage\"].transform(\n",
    "    lambda x: x.fillna(x.median()))\n",
    "for col in ('GarageType', 'GarageFinish', 'GarageQual', 'GarageCond'):\n",
    "    total[col] = total[col].fillna('None')\n",
    "for col in ('BsmtQual', 'BsmtCond', 'BsmtExposure', 'BsmtFinType1', 'BsmtFinType2'):\n",
    "    total[col] = total[col].fillna('None')\n",
    "total[\"MasVnrType\"] = total[\"MasVnrType\"].fillna(\"None\")\n",
    "total[\"MSZoning\"] = total.groupby(\"Neighborhood\")[\"MSZoning\"].transform(\n",
    "    lambda x: x.fillna(x.mode()[0]))##\n",
    "total[\"Utilities\"] = total.groupby(\"Neighborhood\")[\"Utilities\"].transform(\n",
    "    lambda x: x.fillna(x.mode()[0]))##\n",
    "total[\"Functional\"] = total[\"Functional\"].fillna(\"Typ\")\n",
    "total['Electrical'] = total['Electrical'].fillna(total['Electrical'].mode()[0])\n",
    "total['KitchenQual'] = total['KitchenQual'].fillna(\"TA\")\n",
    "total['Exterior1st'] = total['Exterior1st'].fillna(total['Exterior1st'].mode()[0])\n",
    "total['Exterior2nd'] = total['Exterior2nd'].fillna(total['Exterior2nd'].mode()[0])\n",
    "total['SaleType'] = total['SaleType'].fillna(\"Oth\")"
   ]
  },
  {
   "cell_type": "code",
   "execution_count": 18,
   "metadata": {},
   "outputs": [
    {
     "name": "stdout",
     "output_type": "stream",
     "text": [
      "(2910, 25)\n"
     ]
    },
    {
     "data": {
      "text/plain": [
       "1stFlrSF            0\n",
       "2ndFlrSF            0\n",
       "3SsnPorch           0\n",
       "BsmtFinSF1          0\n",
       "BsmtFinSF2          0\n",
       "BsmtFullBath        0\n",
       "BsmtHalfBath        0\n",
       "BsmtUnfSF           0\n",
       "EnclosedPorch       0\n",
       "GarageArea          0\n",
       "GarageCars          0\n",
       "GarageYrBlt         0\n",
       "GrLivArea           0\n",
       "KitchenAbvGr        0\n",
       "LotArea             0\n",
       "LotFrontage         0\n",
       "LowQualFinSF        0\n",
       "MasVnrArea          0\n",
       "MiscVal             0\n",
       "OpenPorchSF         0\n",
       "PoolArea            0\n",
       "SalePrice        1459\n",
       "ScreenPorch         0\n",
       "TotalBsmtSF         0\n",
       "WoodDeckSF          0\n",
       "dtype: int64"
      ]
     },
     "execution_count": 18,
     "metadata": {},
     "output_type": "execute_result"
    }
   ],
   "source": [
    "cont_X = total.select_dtypes(include=[\"float64\"])\n",
    "print(cont_X.shape)\n",
    "np.sum(np.isnan(cont_X))"
   ]
  },
  {
   "cell_type": "code",
   "execution_count": 9,
   "metadata": {
    "collapsed": true
   },
   "outputs": [],
   "source": [
    "#######################################\n",
    "######### Missing Values ##################\n",
    "#######################################\n",
    "### Continuous Data\n",
    "for col in ('BsmtFinSF1', 'BsmtFinSF2', 'BsmtUnfSF','TotalBsmtSF', 'BsmtFullBath', 'BsmtHalfBath', 'GarageArea', 'GarageCars'):\n",
    "    total[col] = total[col].fillna(0)\n",
    "total[\"LotFrontage\"] = total.groupby(\"Neighborhood\")[\"LotFrontage\"].transform(\n",
    "    lambda x: x.fillna(x.median()))\n",
    "total[\"MasVnrArea\"] = total[\"MasVnrArea\"].fillna(0)\n",
    "total[\"GarageYrBlt\"] = total[\"GarageYrBlt\"].fillna(total[\"YearBuilt\"])\n",
    "\n",
    "##################################################\n",
    "########### Integer to Character #################\n",
    "##################################################\n",
    "total['MSSubClass'] = total['MSSubClass'].apply(str)\n",
    "total['MoSold'] = total['MoSold'].astype(str)"
   ]
  },
  {
   "cell_type": "code",
   "execution_count": 10,
   "metadata": {
    "collapsed": true
   },
   "outputs": [],
   "source": [
    "#***************************************************\n",
    "#****** Transformation *****************************\n",
    "#***************************************************\n",
    "\n",
    "# sqrt root transformation\n",
    "total['BsmtUnfSF'] = total['BsmtUnfSF'].apply(np.sqrt)\n",
    "# log1p transformation\n",
    "total[['BsmtFinSF1', 'BsmtFinSF2', \"MasVnrArea\", \"SalePrice\"]] = total[['BsmtFinSF1', 'BsmtFinSF2', \"MasVnrArea\", \"SalePrice\"]].apply(np.log1p)\n",
    "intFeature = total.select_dtypes(include=[\"int64\"]).apply(lambda x: skew(x.astype(float).dropna()))\n",
    "skewIntFeat = intFeature[intFeature > .75].index.tolist()\n",
    "total[skewIntFeat] = total[skewIntFeat].apply(np.log1p)"
   ]
  },
  {
   "cell_type": "code",
   "execution_count": 11,
   "metadata": {
    "collapsed": true
   },
   "outputs": [],
   "source": [
    "#*****************************************************\n",
    "#******* Character to Ordinal ************************\n",
    "#*****************************************************\n",
    "\n",
    "total = total.replace({\"Alley\" : {\"None\" : 0, \"Grvl\" : 1, \"Pave\" : 2},\n",
    "                       \"BsmtCond\" : {\"None\" : 0, \"Po\" : 1, \"Fa\" : 2, \"TA\" : 3, \"Gd\" : 4, \"Ex\" : 5},\n",
    "                       \"BsmtExposure\" : {\"None\" : 0, \"No\" : 1, \"Mn\" : 2, \"Av\": 3, \"Gd\" : 4},##\n",
    "                       \"BsmtFinType1\" : {\"None\" : 0, \"Unf\" : 1, \"LwQ\": 2, \"Rec\" : 3, \"BLQ\" : 4, \n",
    "                                         \"ALQ\" : 5, \"GLQ\" : 6},\n",
    "                       \"BsmtFinType2\" : {\"None\" : 0, \"Unf\" : 1, \"LwQ\": 2, \"Rec\" : 3, \"BLQ\" : 4, \n",
    "                                         \"ALQ\" : 5, \"GLQ\" : 6},\n",
    "                       \"BsmtQual\" : {\"None\" : 0, \"Po\" : 1, \"Fa\" : 2, \"TA\": 3, \"Gd\" : 4, \"Ex\" : 5},\n",
    "                       \"ExterCond\" : {\"Po\" : 1, \"Fa\" : 2, \"TA\": 3, \"Gd\": 4, \"Ex\" : 5},\n",
    "                       \"ExterQual\" : {\"Po\" : 1, \"Fa\" : 2, \"TA\": 3, \"Gd\": 4, \"Ex\" : 5},\n",
    "                       \"Fence\" : {\"None\" : 0, \"MnWw\" : 1, \"GdWo\": 2, \"MnPrv\": 3, \"GdPrv\": 4},\n",
    "                       \"FireplaceQu\" : {\"None\" : 0, \"Po\" : 1, \"Fa\" : 2, \"TA\" : 3, \"Gd\" : 4, \"Ex\" : 5},##\n",
    "                       \"Functional\" : {\"Sal\" : 1, \"Sev\" : 2, \"Maj2\" : 3, \"Maj1\" : 4, \"Mod\": 5, \n",
    "                                       \"Min2\" : 6, \"Min1\" : 7, \"Typ\" : 8},\n",
    "                       \"GarageCond\" : {\"None\" : 0, \"Po\" : 1, \"Fa\" : 2, \"TA\" : 3, \"Gd\" : 4, \"Ex\" : 5},\n",
    "                       \"GarageFinish\" : {\"None\" : 0, \"Unf\" : 1, \"RFn\" : 2, \"Fin\" : 3},\n",
    "                       \"GarageQual\" : {\"None\" : 0, \"Po\" : 1, \"Fa\" : 2, \"TA\" : 3, \"Gd\" : 4, \"Ex\" : 5},\n",
    "                       \"HeatingQC\" : {\"Po\" : 1, \"Fa\" : 2, \"TA\" : 3, \"Gd\" : 4, \"Ex\" : 5},\n",
    "                       \"KitchenQual\" : {\"Po\" : 1, \"Fa\" : 2, \"TA\" : 3, \"Gd\" : 4, \"Ex\" : 5},\n",
    "                       \"LandSlope\" : {\"Sev\" : 1, \"Mod\" : 2, \"Gtl\" : 3},\n",
    "                       \"LotShape\" : {\"IR3\" : 1, \"IR2\" : 2, \"IR1\" : 3, \"Reg\" : 4},\n",
    "                       \"PavedDrive\" : {\"N\" : 0, \"P\" : 1, \"Y\" : 2},\n",
    "                       \"PoolQC\" : {\"None\" : 0, \"Fa\" : 1, \"TA\" : 2, \"Gd\" : 3, \"Ex\" : 4},\n",
    "                       \"Street\" : {\"Grvl\" : 1, \"Pave\" : 2},\n",
    "                       \"Utilities\" : {\"ELO\" : 1, \"NoSeWa\" : 2, \"NoSewr\" : 3, \"AllPub\" : 4}})"
   ]
  },
  {
   "cell_type": "code",
   "execution_count": 12,
   "metadata": {},
   "outputs": [
    {
     "name": "stdout",
     "output_type": "stream",
     "text": [
      "23\n",
      "Start encoding BldgType\n",
      "Start encoding CentralAir\n",
      "Start encoding Condition1\n",
      "Start encoding Condition2\n",
      "Start encoding Electrical\n",
      "Start encoding Exterior1st\n",
      "Start encoding Exterior2nd\n",
      "Start encoding Foundation\n",
      "Start encoding GarageType\n",
      "Start encoding Heating\n",
      "Start encoding HouseStyle\n",
      "Start encoding LandContour\n",
      "Start encoding LotConfig\n",
      "Start encoding MSSubClass\n",
      "Start encoding MSZoning\n",
      "Start encoding MasVnrType\n",
      "Start encoding MiscFeature\n",
      "Start encoding MoSold\n",
      "Start encoding Neighborhood\n",
      "Start encoding RoofMatl\n",
      "Start encoding RoofStyle\n",
      "Start encoding SaleCondition\n",
      "Start encoding SaleType\n"
     ]
    }
   ],
   "source": [
    "from sklearn.preprocessing import LabelEncoder\n",
    "from sklearn import preprocessing\n",
    "catCol = total.select_dtypes([\"object\"]).columns.tolist()\n",
    "print(len(catCol))\n",
    "total.select_dtypes([\"object\"]).dtypes\n",
    "LabelMap = dict()\n",
    "for i in catCol:\n",
    "    print('Start encoding ' + i)\n",
    "    lb = preprocessing.LabelBinarizer()\n",
    "    lb.fit(total[i].astype(str))\n",
    "    LabelMap[i] = dict(zip(lb.classes_, lb.transform(lb.classes_)))\n",
    "    preprocessing.LabelBinarizer(neg_label=0, pos_label=1, sparse_output=False)\n",
    "    binarydata = lb.transform(total[i])\n",
    "    for j in range(len(lb.classes_)-1):\n",
    "        coln = i + '_' + lb.classes_[j]\n",
    "        total[coln]=binarydata[:,[j]]"
   ]
  },
  {
   "cell_type": "code",
   "execution_count": 15,
   "metadata": {
    "collapsed": true
   },
   "outputs": [],
   "source": [
    "new_train = total[:train.shape[0]]\n",
    "new_test = total[train.shape[0]:]"
   ]
  },
  {
   "cell_type": "code",
   "execution_count": 32,
   "metadata": {
    "collapsed": true
   },
   "outputs": [],
   "source": [
    "#new_train.to_csv(\"new_train2.csv\", index=False)\n",
    "#new_test.to_csv(\"new_test2.csv\", index=False)"
   ]
  },
  {
   "cell_type": "code",
   "execution_count": 40,
   "metadata": {
    "collapsed": true
   },
   "outputs": [],
   "source": [
    "#total.to_csv(\"total.csv\", index=False)"
   ]
  },
  {
   "cell_type": "code",
   "execution_count": 16,
   "metadata": {
    "collapsed": true
   },
   "outputs": [],
   "source": [
    "# drop ID columns\n",
    "total.drop(\"Id\", axis=1, inplace=True)"
   ]
  },
  {
   "cell_type": "code",
   "execution_count": 13,
   "metadata": {},
   "outputs": [
    {
     "data": {
      "text/plain": [
       "(2910, 249)"
      ]
     },
     "execution_count": 13,
     "metadata": {},
     "output_type": "execute_result"
    }
   ],
   "source": [
    "total.shape"
   ]
  },
  {
   "cell_type": "code",
   "execution_count": 16,
   "metadata": {},
   "outputs": [
    {
     "data": {
      "text/plain": [
       "(1459, 249)"
      ]
     },
     "execution_count": 16,
     "metadata": {},
     "output_type": "execute_result"
    }
   ],
   "source": [
    "new_test.shape"
   ]
  }
 ],
 "metadata": {
  "kernelspec": {
   "display_name": "Python 3",
   "language": "python",
   "name": "python3"
  },
  "language_info": {
   "codemirror_mode": {
    "name": "ipython",
    "version": 3
   },
   "file_extension": ".py",
   "mimetype": "text/x-python",
   "name": "python",
   "nbconvert_exporter": "python",
   "pygments_lexer": "ipython3",
   "version": "3.6.3"
  }
 },
 "nbformat": 4,
 "nbformat_minor": 2
}
